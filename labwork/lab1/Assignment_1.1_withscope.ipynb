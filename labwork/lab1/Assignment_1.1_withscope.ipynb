{
 "cells": [
  {
   "cell_type": "code",
   "execution_count": 2,
   "metadata": {},
   "outputs": [
    {
     "name": "stdout",
     "output_type": "stream",
     "text": [
      "4\n"
     ]
    }
   ],
   "source": [
    "import tensorflow as tf\n",
    "a=3\n",
    "b=5\n",
    "\n",
    "with tf.name_scope('add'):\n",
    "    with tf.name_scope('a2'):\n",
    "           l=tf.pow(a,2)\n",
    "    with tf.name_scope('b2'):\n",
    "        m=tf.pow(b,2)\n",
    "    p=tf.add(l,m)\n",
    "    \n",
    "with tf.name_scope('2ab'):\n",
    "    n=tf.multiply(2,a)\n",
    "    o=tf.multiply(n,b)\n",
    "\n",
    "q=tf.subtract(p,o)\n",
    "\n",
    "with tf.Session() as sess:\n",
    "    writer = tf.summary.FileWriter(\"/tmp/tboard/d2_scope\", sess.graph)\n",
    "    print(sess.run(q))\n",
    "    writer.close()"
   ]
  },
  {
   "cell_type": "code",
   "execution_count": null,
   "metadata": {
    "collapsed": true
   },
   "outputs": [],
   "source": []
  }
 ],
 "metadata": {
  "kernelspec": {
   "display_name": "Python 3",
   "language": "python",
   "name": "python3"
  },
  "language_info": {
   "codemirror_mode": {
    "name": "ipython",
    "version": 3
   },
   "file_extension": ".py",
   "mimetype": "text/x-python",
   "name": "python",
   "nbconvert_exporter": "python",
   "pygments_lexer": "ipython3",
   "version": "3.6.1"
  }
 },
 "nbformat": 4,
 "nbformat_minor": 2
}
