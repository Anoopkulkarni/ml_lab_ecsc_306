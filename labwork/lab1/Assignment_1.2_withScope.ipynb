{
 "cells": [
  {
   "cell_type": "code",
   "execution_count": 1,
   "metadata": {},
   "outputs": [
    {
     "name": "stdout",
     "output_type": "stream",
     "text": [
      "81\n"
     ]
    }
   ],
   "source": [
    "import tensorflow as tf\n",
    "a = 5\n",
    "b = 8\n",
    "c = 4\n",
    "with tf.name_scope('Assignment1'):\n",
    "    with tf.name_scope('a2b2c2'):    \n",
    "        with tf.name_scope('c2'):    \n",
    "            n=tf.pow(c,2)\n",
    "        with tf.name_scope('a2b2'):\n",
    "            with tf.name_scope('a2'):\n",
    "                l=tf.pow(a,2)       \n",
    "            with tf.name_scope('b2'):\n",
    "                m=tf.pow(b,2)      \n",
    "        \n",
    "            u=tf.add(l,m)\n",
    "        \n",
    "        v=tf.add(u,n)\n",
    "    \n",
    "\n",
    "\n",
    "    with tf.name_scope('2ab2bc2ac'): \n",
    "        with tf.name_scope('2ab2bc'): \n",
    "            \n",
    "            with tf.name_scope('2ab'):    \n",
    "                o=tf.multiply(2,a)\n",
    "                p=tf.multiply(o,b)\n",
    "            with tf.name_scope('2bc'):\n",
    "                q=tf.multiply(2,b)\n",
    "                r=tf.multiply(q,c)\n",
    "            s=tf.subtract(p,r)\n",
    "        with tf.name_scope('2ac'):\n",
    "            x=tf.multiply(2,a)\n",
    "            q=tf.multiply(x,c)\n",
    "        \n",
    "         \n",
    "        t=tf.subtract(s,q)\n",
    "    \n",
    "    w=tf.add(v,t)\n",
    "\n",
    "with tf.Session() as sess:\n",
    "    writer = tf.summary.FileWriter(\"/tmp/tboard/d2_2_scope\", sess.graph)\n",
    "    print(sess.run(w))\n",
    "    writer.close()\n"
   ]
  },
  {
   "cell_type": "code",
   "execution_count": null,
   "metadata": {
    "collapsed": true
   },
   "outputs": [],
   "source": []
  },
  {
   "cell_type": "code",
   "execution_count": null,
   "metadata": {
    "collapsed": true
   },
   "outputs": [],
   "source": []
  }
 ],
 "metadata": {
  "kernelspec": {
   "display_name": "Python 3",
   "language": "python",
   "name": "python3"
  },
  "language_info": {
   "codemirror_mode": {
    "name": "ipython",
    "version": 3
   },
   "file_extension": ".py",
   "mimetype": "text/x-python",
   "name": "python",
   "nbconvert_exporter": "python",
   "pygments_lexer": "ipython3",
   "version": "3.6.1"
  }
 },
 "nbformat": 4,
 "nbformat_minor": 2
}
