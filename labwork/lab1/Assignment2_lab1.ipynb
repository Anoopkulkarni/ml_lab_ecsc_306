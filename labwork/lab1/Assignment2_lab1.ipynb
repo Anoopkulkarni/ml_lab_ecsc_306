{
 "cells": [
  {
   "cell_type": "code",
   "execution_count": 2,
   "metadata": {},
   "outputs": [
    {
     "name": "stdout",
     "output_type": "stream",
     "text": [
      "x values\n",
      "[ 1.52999997  2.52999997  6.28999996  7.88000011  8.60000038]\n",
      "y values\n",
      "[  2.3599999    5.25        13.23999977  16.87999916  18.55999947]\n",
      " \n",
      "---------- \n",
      "mean x : 5.3660\n",
      "mean y : 11.2580\n",
      "---------- \n",
      "variance(x) : 40.3905\n",
      "---------- \n",
      "covariance (x) and (y) : 90.7512\n",
      "---------- \n",
      "value of m : 2.2468\n",
      "---------- \n",
      "value of c : -0.7986\n",
      "---------- \n",
      "2.6391\n",
      "4.8860\n",
      "13.3341\n",
      "16.9066\n",
      "18.5243\n",
      "---------- \n",
      "------------------------------------------------------ \n"
     ]
    },
    {
     "data": {
      "image/png": "[encoded data removed]",
      "text/plain": [
       "<matplotlib.figure.Figure at 0x7fa82c9d5ba8>"
      ]
     },
     "metadata": {},
     "output_type": "display_data"
    },
    {
     "name": "stdout",
     "output_type": "stream",
     "text": [
      "------------------------------------------------------ \n",
      "root mean square \n",
      "11.2579997063\n",
      "10.0971183825\n"
     ]
    }
   ],
   "source": [
    "import tensorflow as tf\n",
    "import numpy as np\n",
    "import matplotlib.pyplot as plt\n",
    "\n",
    "x = np.array([1.53, 2.53, 6.29, 7.88, 8.6], dtype=np.float32)\n",
    "y = np.array([2.36,5.25,13.24,16.88,18.56], dtype=np.float32)\n",
    "y1 = np.array([0, 0, 0, 0, 0], dtype=np.float32)\n",
    "print (\"x values\")\n",
    "print (x)\n",
    "\n",
    "print (\"y values\")\n",
    "print (y)\n",
    "\n",
    "meanx=sum(x)/len(x)\n",
    "meany=sum(y)/len(y)\n",
    "\n",
    "print (\" \")\n",
    "\n",
    "varx=0\n",
    "print (\"---------- \")\n",
    "print (\"mean x : \",end='')\n",
    "print (\"%.4f\" %meanx)\n",
    "print (\"mean y : \",end='')\n",
    "print (\"%.4f\" %meany)\n",
    "print (\"---------- \")\n",
    "\n",
    "for i in range(0,len(x)):\n",
    "    varx = varx + pow((x[i]-meanx),2)\n",
    "    \n",
    "print (\"variance(x) : \",end='')    \n",
    "print (\"%.4f\" %varx)\n",
    "print (\"---------- \")\n",
    "\n",
    "cov=0\n",
    "for i in range(0,len(x)):\n",
    "       cov= cov+((x[i]-meanx)*(y[i]-meany))\n",
    "        \n",
    "print (\"covariance (x) and (y) : \",end='')    \n",
    "print (\"%.4f\" %cov)\n",
    "print (\"---------- \")\n",
    "\n",
    "m=cov/varx\n",
    "print (\"value of m : \",end='')    \n",
    "print (\"%.4f\" %m)\n",
    "print (\"---------- \")\n",
    "\n",
    "c = meany - m  * meanx\n",
    "print (\"value of c : \",end='')    \n",
    "print (\"%.4f\" %c)\n",
    "print (\"---------- \")\n",
    "\n",
    "for i in range(0,len(x)):\n",
    "    y1[i] = m*x[i]+c\n",
    "    print (\"%.4f\" %y1[i])\n",
    "print (\"---------- \")\n",
    "print (\"------------------------------------------------------ \")\n",
    "for i in range(0,len(x)):\n",
    "    plt.plot([x[i]],[y1[i]],'ro')\n",
    "    plt.axis([0., 10., 0., 20.])\n",
    "    \n",
    "plt.show()\n",
    "\n",
    "print (\"------------------------------------------------------ \")\n",
    "\n",
    "print (\"root mean square \")\n",
    "\n",
    "meany1=sum(y1)/len(y1)\n",
    "sum1=0\n",
    "for i in range(0,len(y1)):\n",
    "    sum1=sum1 + pow((meany1-y1[i]),2)\n",
    "\n",
    "sum2=sum1/2;\n",
    "rms=np.sqrt(sum2)\n",
    "print (rms)\n",
    "\n",
    "\n",
    "\n"
   ]
  }
 ],
 "metadata": {
  "kernelspec": {
   "display_name": "Python 3",
   "language": "python",
   "name": "python3"
  },
  "language_info": {
   "codemirror_mode": {
    "name": "ipython",
    "version": 3
   },
   "file_extension": ".py",
   "mimetype": "text/x-python",
   "name": "python",
   "nbconvert_exporter": "python",
   "pygments_lexer": "ipython3",
   "version": "3.6.1"
  }
 },
 "nbformat": 4,
 "nbformat_minor": 2
}
