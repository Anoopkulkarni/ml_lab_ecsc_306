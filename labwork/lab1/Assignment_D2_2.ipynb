{
 "cells": [
  {
   "cell_type": "markdown",
   "metadata": {},
   "source": [
    "# D2"
   ]
  },
  {
   "cell_type": "markdown",
   "metadata": {},
   "source": [
    "## (a+b−c)2=a2+b2+c2+2xy−2yz−2xz"
   ]
  },
  {
   "cell_type": "code",
   "execution_count": 1,
   "metadata": {},
   "outputs": [
    {
     "name": "stdout",
     "output_type": "stream",
     "text": [
      "81\n"
     ]
    }
   ],
   "source": [
    "import tensorflow as tf\n",
    "a = 5\n",
    "b = 8\n",
    "c = 4\n",
    "l=tf.pow(a,2)       # a^2\n",
    "m=tf.pow(b,2)       # b^2\n",
    "n=tf.pow(c,2)       # c^2\n",
    "o=tf.multiply(2,a)  # 2a\n",
    "p=tf.multiply(o,b)  # 2ab\n",
    "q=tf.multiply(2,b)  # 2b\n",
    "r=tf.multiply(q,c)  # 2bc\n",
    "q=tf.multiply(o,c)  # 2ac\n",
    "s=tf.subtract(p,r)  \n",
    "t=tf.subtract(s,q)\n",
    "\n",
    "u=tf.add(l,m)\n",
    "v=tf.add(u,n)\n",
    "w=tf.add(v,t)\n",
    "\n",
    "\n",
    "with tf.Session() as sess:\n",
    "    writer = tf.summary.FileWriter(\"/tmp/tboard/d2_3\", sess.graph)\n",
    "    print(sess.run(w))\n",
    "    writer.close()\n"
   ]
  },
  {
   "cell_type": "code",
   "execution_count": null,
   "metadata": {
    "collapsed": true
   },
   "outputs": [],
   "source": []
  }
 ],
 "metadata": {
  "kernelspec": {
   "display_name": "Python 3",
   "language": "python",
   "name": "python3"
  },
  "language_info": {
   "codemirror_mode": {
    "name": "ipython",
    "version": 3
   },
   "file_extension": ".py",
   "mimetype": "text/x-python",
   "name": "python",
   "nbconvert_exporter": "python",
   "pygments_lexer": "ipython3",
   "version": "3.6.1"
  }
 },
 "nbformat": 4,
 "nbformat_minor": 2
}
